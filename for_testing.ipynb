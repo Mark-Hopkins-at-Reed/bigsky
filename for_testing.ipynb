{
 "cells": [
  {
   "cell_type": "code",
   "execution_count": 1,
   "metadata": {},
   "outputs": [],
   "source": [
    "#sample sentences. should be parseable\n",
    "ss = [\"humid in the morning.\",\n",
    "      \"windy and mostly cloudy tonight.\",\n",
    "      \"heavy drizzle (4 – 6 in.) throughout the day.\",\n",
    "      \"windy and windy and possible light flurries (with a chance of 10 – 3 cm. of snow) starting tomorrow, continuing until tonight and this morning.\",\n",
    "      \"windy and possible light flurries (with a chance of 10 – 3 cm. of snow) starting tomorrow, continuing until tonight and this morning.\",\n",
    "      \"humid until tonight.\",\n",
    "      \"possible heavy snow starting later this morning, continuing until tonight.\"\n",
    "    ]\n",
    "# sentence #4 is definitely ambiguous but I think the others are not\n",
    "# the cky seems to be having trouble with anything with parentheticals"
   ]
  },
  {
   "cell_type": "code",
   "execution_count": 2,
   "metadata": {},
   "outputs": [],
   "source": [
    "import bigsky.cky as cky\n",
    "import bigsky.forecast as fc\n",
    "import bigsky.cfg as cfg\n",
    "from sacremoses import MosesTokenizer"
   ]
  },
  {
   "cell_type": "code",
   "execution_count": 3,
   "metadata": {},
   "outputs": [],
   "source": [
    "g = cfg.Cfg.from_file(\"data/cfgs/weather.cfg\")\n",
    "g = g.binarize()"
   ]
  },
  {
   "cell_type": "code",
   "execution_count": 4,
   "metadata": {},
   "outputs": [
    {
     "name": "stdout",
     "output_type": "stream",
     "text": [
      "['humid', 'in', 'the', 'morning', '.']\n",
      "['windy', 'and', 'mostly', 'cloudy', 'tonight', '.']\n",
      "['heavy', 'drizzle', '(', '4', '–', '6', 'in', '.', ')', 'throughout', 'the', 'day', '.']\n",
      "['windy', 'and', 'windy', 'and', 'possible', 'light', 'flurries', '(', 'with', 'a', 'chance', 'of', '10', '–', '3', 'cm.', 'of', 'snow', ')', 'starting', 'tomorrow', ',', 'continuing', 'until', 'tonight', 'and', 'this', 'morning', '.']\n",
      "['windy', 'and', 'possible', 'light', 'flurries', '(', 'with', 'a', 'chance', 'of', '10', '–', '3', 'cm.', 'of', 'snow', ')', 'starting', 'tomorrow', ',', 'continuing', 'until', 'tonight', 'and', 'this', 'morning', '.']\n",
      "['humid', 'until', 'tonight', '.']\n",
      "['possible', 'heavy', 'snow', 'starting', 'later', 'this', 'morning', ',', 'continuing', 'until', 'tonight', '.']\n"
     ]
    }
   ],
   "source": [
    "# make sure the sentences will be tokenized properly/whether they parse\n",
    "for s in ss:\n",
    "    print(MosesTokenizer().tokenize(s))"
   ]
  },
  {
   "cell_type": "code",
   "execution_count": 5,
   "metadata": {
    "scrolled": true
   },
   "outputs": [
    {
     "name": "stdout",
     "output_type": "stream",
     "text": [
      "[('S', ('WEATHER', 'humid'), [('__TIME___\".\"', [('TIME', ('_\"in\"', 'in'), [('___\"the\"__TIMEWORD', ('_\"the\"', 'the'), ('TIMEWORD', 'morning'))])], ('_\".\"', '.'))])]\n",
      "[('S', [('WEATHER', ('WEATHER', 'windy'), [('___\"and\"__WEATHER', ('_\"and\"', 'and'), [('WEATHER', ('_\"mostly\"', 'mostly'), ('_\"cloudy\"', 'cloudy'))])])], [('__TIME___\".\"', ('TIME', 'tonight'), ('_\".\"', '.'))])]\n",
      "[('S', [('WEATHER', ('PRECIPMODIFIERS', 'heavy'), [('__PRECIPNOUN__PRECIPPAREN', ('PRECIPNOUN', 'drizzle'), [('PRECIPPAREN', ('_\"(\"', '('), [('__MEASURE___\")\"', [('MEASURE', ('NUM', '4'), [('___\"–\"__NUM__UNIT', ('_\"–\"', '–'), [('__NUM__UNIT', ('NUM', '6'), [('UNIT', ('_\"in\"', 'in'), ('_\".\"', '.'))])])])], ('_\")\"', ')'))])])])], [('__TIME___\".\"', [('TIME', ('_\"throughout\"', 'throughout'), [('___\"the\"___\"day\"', ('_\"the\"', 'the'), ('_\"day\"', 'day'))])], ('_\".\"', '.'))])]\n",
      "[('S', [('WEATHER', ('PRECIPMODIFIERS', 'heavy'), [('__PRECIPNOUN__PRECIPPAREN', ('PRECIPNOUN', 'drizzle'), [('PRECIPPAREN', ('_\"(\"', '('), [('__MEASURE___\")\"', [('MEASURE', ('NUM', '4'), [('___\"–\"__NUM__UNIT', ('_\"–\"', '–'), [('__NUM__UNIT', ('NUM', '6'), [('UNIT', ('_\"in\"', 'in'), ('_\".\"', '.'))])])])], ('_\")\"', ')'))])])])], [('__TIME___\".\"', [('TIME', ('_\"throughout\"', 'throughout'), [('___\"the\"___\"day\"', ('_\"the\"', 'the'), ('_\"day\"', 'day'))])], ('_\".\"', '.'))])]\n",
      "[('S', [('WEATHER', ('WEATHER', 'windy'), [('___\"and\"__WEATHER', ('_\"and\"', 'and'), [('WEATHER', ('WEATHER', 'windy'), [('___\"and\"__WEATHER', ('_\"and\"', 'and'), [('WEATHER', [('PRECIPMODIFIERS', ('PRECIPMODIFIER', 'possible'), ('PRECIPMODIFIERS', 'light'))], [('__PRECIPNOUN__PRECIPPAREN', ('PRECIPNOUN', 'flurries'), [('PRECIPPAREN', ('_\"(\"', '('), [('___\"with\"___\"a\"___\"chance\"___\"of\"__MEASURE___\"of\"___\"snow\"___\")\"', ('_\"with\"', 'with'), [('___\"a\"___\"chance\"___\"of\"__MEASURE___\"of\"___\"snow\"___\")\"', ('_\"a\"', 'a'), [('___\"chance\"___\"of\"__MEASURE___\"of\"___\"snow\"___\")\"', ('_\"chance\"', 'chance'), [('___\"of\"__MEASURE___\"of\"___\"snow\"___\")\"', ('_\"of\"', 'of'), [('__MEASURE___\"of\"___\"snow\"___\")\"', [('MEASURE', ('NUM', '10'), [('___\"–\"__NUM__UNIT', ('_\"–\"', '–'), [('__NUM__UNIT', ('NUM', '3'), ('UNIT', 'cm.'))])])], [('___\"of\"___\"snow\"___\")\"', ('_\"of\"', 'of'), [('___\"snow\"___\")\"', ('_\"snow\"', 'snow'), ('_\")\"', ')'))])])])])])])])])])])])])])], [('__TIME___\".\"', [('TIME', ('_\"starting\"', 'starting'), [('__BTIME___\",\"___\"continuing\"___\"until\"__BTIME', ('BTIME', 'tomorrow'), [('___\",\"___\"continuing\"___\"until\"__BTIME', ('_\",\"', ','), [('___\"continuing\"___\"until\"__BTIME', ('_\"continuing\"', 'continuing'), [('___\"until\"__BTIME', ('_\"until\"', 'until'), [('BTIME', ('BTIME', 'tonight'), [('___\"and\"__BTIME', ('_\"and\"', 'and'), [('BTIME', ('_\"this\"', 'this'), ('TIMEWORD', 'morning'))])])])])])])])], ('_\".\"', '.'))])]\n",
      "[('S', [('WEATHER', ('WEATHER', 'windy'), [('___\"and\"__WEATHER', ('_\"and\"', 'and'), [('WEATHER', ('WEATHER', 'windy'), [('___\"and\"__WEATHER', ('_\"and\"', 'and'), [('WEATHER', [('PRECIPMODIFIERS', ('PRECIPMODIFIER', 'possible'), ('PRECIPMODIFIERS', 'light'))], [('__PRECIPNOUN__PRECIPPAREN', ('PRECIPNOUN', 'flurries'), [('PRECIPPAREN', ('_\"(\"', '('), [('___\"with\"___\"a\"___\"chance\"___\"of\"__MEASURE___\"of\"___\"snow\"___\")\"', ('_\"with\"', 'with'), [('___\"a\"___\"chance\"___\"of\"__MEASURE___\"of\"___\"snow\"___\")\"', ('_\"a\"', 'a'), [('___\"chance\"___\"of\"__MEASURE___\"of\"___\"snow\"___\")\"', ('_\"chance\"', 'chance'), [('___\"of\"__MEASURE___\"of\"___\"snow\"___\")\"', ('_\"of\"', 'of'), [('__MEASURE___\"of\"___\"snow\"___\")\"', [('MEASURE', ('NUM', '10'), [('___\"–\"__NUM__UNIT', ('_\"–\"', '–'), [('__NUM__UNIT', ('NUM', '3'), ('UNIT', 'cm.'))])])], [('___\"of\"___\"snow\"___\")\"', ('_\"of\"', 'of'), [('___\"snow\"___\")\"', ('_\"snow\"', 'snow'), ('_\")\"', ')'))])])])])])])])])])])])])])], [('__TIME___\".\"', [('TIME', ('_\"starting\"', 'starting'), [('__BTIME___\",\"___\"continuing\"___\"until\"__BTIME', ('BTIME', 'tomorrow'), [('___\",\"___\"continuing\"___\"until\"__BTIME', ('_\",\"', ','), [('___\"continuing\"___\"until\"__BTIME', ('_\"continuing\"', 'continuing'), [('___\"until\"__BTIME', ('_\"until\"', 'until'), [('BTIME', ('BTIME', 'tonight'), [('___\"and\"__BTIME', ('_\"and\"', 'and'), [('BTIME', ('_\"this\"', 'this'), ('TIMEWORD', 'morning'))])])])])])])])], ('_\".\"', '.'))])]\n",
      "[('S', [('WEATHER', [('WEATHER', ('WEATHER', 'windy'), [('___\"and\"__WEATHER', ('_\"and\"', 'and'), ('WEATHER', 'windy'))])], [('___\"and\"__WEATHER', ('_\"and\"', 'and'), [('WEATHER', [('PRECIPMODIFIERS', ('PRECIPMODIFIER', 'possible'), ('PRECIPMODIFIERS', 'light'))], [('__PRECIPNOUN__PRECIPPAREN', ('PRECIPNOUN', 'flurries'), [('PRECIPPAREN', ('_\"(\"', '('), [('___\"with\"___\"a\"___\"chance\"___\"of\"__MEASURE___\"of\"___\"snow\"___\")\"', ('_\"with\"', 'with'), [('___\"a\"___\"chance\"___\"of\"__MEASURE___\"of\"___\"snow\"___\")\"', ('_\"a\"', 'a'), [('___\"chance\"___\"of\"__MEASURE___\"of\"___\"snow\"___\")\"', ('_\"chance\"', 'chance'), [('___\"of\"__MEASURE___\"of\"___\"snow\"___\")\"', ('_\"of\"', 'of'), [('__MEASURE___\"of\"___\"snow\"___\")\"', [('MEASURE', ('NUM', '10'), [('___\"–\"__NUM__UNIT', ('_\"–\"', '–'), [('__NUM__UNIT', ('NUM', '3'), ('UNIT', 'cm.'))])])], [('___\"of\"___\"snow\"___\")\"', ('_\"of\"', 'of'), [('___\"snow\"___\")\"', ('_\"snow\"', 'snow'), ('_\")\"', ')'))])])])])])])])])])])])], [('__TIME___\".\"', [('TIME', ('_\"starting\"', 'starting'), [('__BTIME___\",\"___\"continuing\"___\"until\"__BTIME', ('BTIME', 'tomorrow'), [('___\",\"___\"continuing\"___\"until\"__BTIME', ('_\",\"', ','), [('___\"continuing\"___\"until\"__BTIME', ('_\"continuing\"', 'continuing'), [('___\"until\"__BTIME', ('_\"until\"', 'until'), [('BTIME', ('BTIME', 'tonight'), [('___\"and\"__BTIME', ('_\"and\"', 'and'), [('BTIME', ('_\"this\"', 'this'), ('TIMEWORD', 'morning'))])])])])])])])], ('_\".\"', '.'))])]\n",
      "[('S', [('WEATHER', [('WEATHER', ('WEATHER', 'windy'), [('___\"and\"__WEATHER', ('_\"and\"', 'and'), ('WEATHER', 'windy'))])], [('___\"and\"__WEATHER', ('_\"and\"', 'and'), [('WEATHER', [('PRECIPMODIFIERS', ('PRECIPMODIFIER', 'possible'), ('PRECIPMODIFIERS', 'light'))], [('__PRECIPNOUN__PRECIPPAREN', ('PRECIPNOUN', 'flurries'), [('PRECIPPAREN', ('_\"(\"', '('), [('___\"with\"___\"a\"___\"chance\"___\"of\"__MEASURE___\"of\"___\"snow\"___\")\"', ('_\"with\"', 'with'), [('___\"a\"___\"chance\"___\"of\"__MEASURE___\"of\"___\"snow\"___\")\"', ('_\"a\"', 'a'), [('___\"chance\"___\"of\"__MEASURE___\"of\"___\"snow\"___\")\"', ('_\"chance\"', 'chance'), [('___\"of\"__MEASURE___\"of\"___\"snow\"___\")\"', ('_\"of\"', 'of'), [('__MEASURE___\"of\"___\"snow\"___\")\"', [('MEASURE', ('NUM', '10'), [('___\"–\"__NUM__UNIT', ('_\"–\"', '–'), [('__NUM__UNIT', ('NUM', '3'), ('UNIT', 'cm.'))])])], [('___\"of\"___\"snow\"___\")\"', ('_\"of\"', 'of'), [('___\"snow\"___\")\"', ('_\"snow\"', 'snow'), ('_\")\"', ')'))])])])])])])])])])])])], [('__TIME___\".\"', [('TIME', ('_\"starting\"', 'starting'), [('__BTIME___\",\"___\"continuing\"___\"until\"__BTIME', ('BTIME', 'tomorrow'), [('___\",\"___\"continuing\"___\"until\"__BTIME', ('_\",\"', ','), [('___\"continuing\"___\"until\"__BTIME', ('_\"continuing\"', 'continuing'), [('___\"until\"__BTIME', ('_\"until\"', 'until'), [('BTIME', ('BTIME', 'tonight'), [('___\"and\"__BTIME', ('_\"and\"', 'and'), [('BTIME', ('_\"this\"', 'this'), ('TIMEWORD', 'morning'))])])])])])])])], ('_\".\"', '.'))])]\n",
      "[('S', [('WEATHER', ('WEATHER', 'windy'), [('___\"and\"__WEATHER', ('_\"and\"', 'and'), [('WEATHER', [('PRECIPMODIFIERS', ('PRECIPMODIFIER', 'possible'), ('PRECIPMODIFIERS', 'light'))], [('__PRECIPNOUN__PRECIPPAREN', ('PRECIPNOUN', 'flurries'), [('PRECIPPAREN', ('_\"(\"', '('), [('___\"with\"___\"a\"___\"chance\"___\"of\"__MEASURE___\"of\"___\"snow\"___\")\"', ('_\"with\"', 'with'), [('___\"a\"___\"chance\"___\"of\"__MEASURE___\"of\"___\"snow\"___\")\"', ('_\"a\"', 'a'), [('___\"chance\"___\"of\"__MEASURE___\"of\"___\"snow\"___\")\"', ('_\"chance\"', 'chance'), [('___\"of\"__MEASURE___\"of\"___\"snow\"___\")\"', ('_\"of\"', 'of'), [('__MEASURE___\"of\"___\"snow\"___\")\"', [('MEASURE', ('NUM', '10'), [('___\"–\"__NUM__UNIT', ('_\"–\"', '–'), [('__NUM__UNIT', ('NUM', '3'), ('UNIT', 'cm.'))])])], [('___\"of\"___\"snow\"___\")\"', ('_\"of\"', 'of'), [('___\"snow\"___\")\"', ('_\"snow\"', 'snow'), ('_\")\"', ')'))])])])])])])])])])])])], [('__TIME___\".\"', [('TIME', ('_\"starting\"', 'starting'), [('__BTIME___\",\"___\"continuing\"___\"until\"__BTIME', ('BTIME', 'tomorrow'), [('___\",\"___\"continuing\"___\"until\"__BTIME', ('_\",\"', ','), [('___\"continuing\"___\"until\"__BTIME', ('_\"continuing\"', 'continuing'), [('___\"until\"__BTIME', ('_\"until\"', 'until'), [('BTIME', ('BTIME', 'tonight'), [('___\"and\"__BTIME', ('_\"and\"', 'and'), [('BTIME', ('_\"this\"', 'this'), ('TIMEWORD', 'morning'))])])])])])])])], ('_\".\"', '.'))])]\n",
      "[('S', [('WEATHER', ('WEATHER', 'windy'), [('___\"and\"__WEATHER', ('_\"and\"', 'and'), [('WEATHER', [('PRECIPMODIFIERS', ('PRECIPMODIFIER', 'possible'), ('PRECIPMODIFIERS', 'light'))], [('__PRECIPNOUN__PRECIPPAREN', ('PRECIPNOUN', 'flurries'), [('PRECIPPAREN', ('_\"(\"', '('), [('___\"with\"___\"a\"___\"chance\"___\"of\"__MEASURE___\"of\"___\"snow\"___\")\"', ('_\"with\"', 'with'), [('___\"a\"___\"chance\"___\"of\"__MEASURE___\"of\"___\"snow\"___\")\"', ('_\"a\"', 'a'), [('___\"chance\"___\"of\"__MEASURE___\"of\"___\"snow\"___\")\"', ('_\"chance\"', 'chance'), [('___\"of\"__MEASURE___\"of\"___\"snow\"___\")\"', ('_\"of\"', 'of'), [('__MEASURE___\"of\"___\"snow\"___\")\"', [('MEASURE', ('NUM', '10'), [('___\"–\"__NUM__UNIT', ('_\"–\"', '–'), [('__NUM__UNIT', ('NUM', '3'), ('UNIT', 'cm.'))])])], [('___\"of\"___\"snow\"___\")\"', ('_\"of\"', 'of'), [('___\"snow\"___\")\"', ('_\"snow\"', 'snow'), ('_\")\"', ')'))])])])])])])])])])])])], [('__TIME___\".\"', [('TIME', ('_\"starting\"', 'starting'), [('__BTIME___\",\"___\"continuing\"___\"until\"__BTIME', ('BTIME', 'tomorrow'), [('___\",\"___\"continuing\"___\"until\"__BTIME', ('_\",\"', ','), [('___\"continuing\"___\"until\"__BTIME', ('_\"continuing\"', 'continuing'), [('___\"until\"__BTIME', ('_\"until\"', 'until'), [('BTIME', ('BTIME', 'tonight'), [('___\"and\"__BTIME', ('_\"and\"', 'and'), [('BTIME', ('_\"this\"', 'this'), ('TIMEWORD', 'morning'))])])])])])])])], ('_\".\"', '.'))])]\n",
      "[('S', ('WEATHER', 'humid'), [('__TIME___\".\"', [('TIME', ('_\"until\"', 'until'), ('BTIME', 'tonight'))], ('_\".\"', '.'))])]\n",
      "[('S', [('WEATHER', [('PRECIPMODIFIERS', ('PRECIPMODIFIER', 'possible'), ('PRECIPMODIFIERS', 'heavy'))], ('PRECIPNOUN', 'snow'))], [('__TIME___\".\"', [('TIME', ('_\"starting\"', 'starting'), [('__BTIME___\",\"___\"continuing\"___\"until\"__BTIME', [('BTIME', ('_\"later\"', 'later'), [('___\"this\"___\"morning\"', ('_\"this\"', 'this'), ('_\"morning\"', 'morning'))])], [('___\",\"___\"continuing\"___\"until\"__BTIME', ('_\",\"', ','), [('___\"continuing\"___\"until\"__BTIME', ('_\"continuing\"', 'continuing'), [('___\"until\"__BTIME', ('_\"until\"', 'until'), ('BTIME', 'tonight'))])])])])], ('_\".\"', '.'))])]\n"
     ]
    }
   ],
   "source": [
    "ts = []\n",
    "for s in ss:\n",
    "    ts += cky.cky_tree(s,g,split_trees=True)\n",
    "for t in ts:\n",
    "    print(t)"
   ]
  },
  {
   "cell_type": "code",
   "execution_count": 10,
   "metadata": {},
   "outputs": [
    {
     "name": "stdout",
     "output_type": "stream",
     "text": [
      "[S [WEATHER [PRECIPMODIFIERS heavy] [PRECIPNOUNPRECIPPAREN [PRECIPNOUN drizzle] [PRECIPPAREN [\\(\\ (] [MEASURE\\)\\ [MEASURE [NUM 4] [\\\\u2013\\NUMUNIT [\\\\u2013\\ \\u2013] [NUMUNIT [NUM 6] [UNIT [\\in\\ in] [\\.\\ .]]]]] [\\)\\ )]]]]] [TIME\\.\\ [TIME [\\throughout\\ throughout] [\\the\\\\day\\ [\\the\\ the] [\\day\\ day]]] [\\.\\ .]]]\n",
      "\n",
      "\n",
      "[S [WEATHER humid] [TIME\\.\\ [TIME [\\until\\ until] [BTIME tonight]] [\\.\\ .]]]\n",
      "\n",
      "\n",
      "[S [WEATHER [PRECIPMODIFIERS [PRECIPMODIFIER possible] [PRECIPMODIFIERS heavy]] [PRECIPNOUN snow]] [TIME\\.\\ [TIME [\\starting\\ starting] [BTIME\\\\\\continuing\\\\until\\BTIME [BTIME [\\later\\ later] [\\this\\\\morning\\ [\\this\\ this] [\\morning\\ morning]]] [\\\\\\continuing\\\\until\\BTIME [\\\\ ,] [\\continuing\\\\until\\BTIME [\\continuing\\ continuing] [\\until\\BTIME [\\until\\ until] [BTIME tonight]]]]]] [\\.\\ .]]]\n",
      "\n",
      "\n",
      "[S [WEATHER [WEATHER [WEATHER windy] [\\and\\WEATHER [\\and\\ and] [WEATHER windy]]] [\\and\\WEATHER [\\and\\ and] [WEATHER [PRECIPMODIFIERS [PRECIPMODIFIER possible] [PRECIPMODIFIERS light]] [PRECIPNOUNPRECIPPAREN [PRECIPNOUN flurries] [PRECIPPAREN [\\(\\ (] [\\with\\\\a\\\\chance\\\\of\\MEASURE\\of\\\\snow\\\\)\\ [\\with\\ with] [\\a\\\\chance\\\\of\\MEASURE\\of\\\\snow\\\\)\\ [\\a\\ a] [\\chance\\\\of\\MEASURE\\of\\\\snow\\\\)\\ [\\chance\\ chance] [\\of\\MEASURE\\of\\\\snow\\\\)\\ [\\of\\ of] [MEASURE\\of\\\\snow\\\\)\\ [MEASURE [NUM 10] [\\\\u2013\\NUMUNIT [\\\\u2013\\ \\u2013] [NUMUNIT [NUM 3] [UNIT cm.]]]] [\\of\\\\snow\\\\)\\ [\\of\\ of] [\\snow\\\\)\\ [\\snow\\ snow] [\\)\\ )]]]]]]]]]]]]] [TIME\\.\\ [TIME [\\starting\\ starting] [BTIME\\\\\\continuing\\\\until\\BTIME [BTIME tomorrow] [\\\\\\continuing\\\\until\\BTIME [\\\\ ,] [\\continuing\\\\until\\BTIME [\\continuing\\ continuing] [\\until\\BTIME [\\until\\ until] [BTIME [BTIME tonight] [\\and\\BTIME [\\and\\ and] [BTIME [\\this\\ this] [TIMEWORD morning]]]]]]]]] [\\.\\ .]]]\n",
      "\n",
      "\n",
      "[S [WEATHER humid] [TIME\\.\\ [TIME [\\in\\ in] [\\the\\TIMEWORD [\\the\\ the] [TIMEWORD morning]]] [\\.\\ .]]]\n",
      "\n",
      "\n",
      "[S [WEATHER [WEATHER windy] [\\and\\WEATHER [\\and\\ and] [WEATHER [PRECIPMODIFIERS [PRECIPMODIFIER possible] [PRECIPMODIFIERS light]] [PRECIPNOUNPRECIPPAREN [PRECIPNOUN flurries] [PRECIPPAREN [\\(\\ (] [\\with\\\\a\\\\chance\\\\of\\MEASURE\\of\\\\snow\\\\)\\ [\\with\\ with] [\\a\\\\chance\\\\of\\MEASURE\\of\\\\snow\\\\)\\ [\\a\\ a] [\\chance\\\\of\\MEASURE\\of\\\\snow\\\\)\\ [\\chance\\ chance] [\\of\\MEASURE\\of\\\\snow\\\\)\\ [\\of\\ of] [MEASURE\\of\\\\snow\\\\)\\ [MEASURE [NUM 10] [\\\\u2013\\NUMUNIT [\\\\u2013\\ \\u2013] [NUMUNIT [NUM 3] [UNIT cm.]]]] [\\of\\\\snow\\\\)\\ [\\of\\ of] [\\snow\\\\)\\ [\\snow\\ snow] [\\)\\ )]]]]]]]]]]]]] [TIME\\.\\ [TIME [\\starting\\ starting] [BTIME\\\\\\continuing\\\\until\\BTIME [BTIME tomorrow] [\\\\\\continuing\\\\until\\BTIME [\\\\ ,] [\\continuing\\\\until\\BTIME [\\continuing\\ continuing] [\\until\\BTIME [\\until\\ until] [BTIME [BTIME tonight] [\\and\\BTIME [\\and\\ and] [BTIME [\\this\\ this] [TIMEWORD morning]]]]]]]]] [\\.\\ .]]]\n",
      "\n",
      "\n",
      "[S [WEATHER [WEATHER windy] [\\and\\WEATHER [\\and\\ and] [WEATHER [\\mostly\\ mostly] [\\cloudy\\ cloudy]]]] [TIME\\.\\ [TIME tonight] [\\.\\ .]]]\n",
      "\n",
      "\n",
      "[S [WEATHER [WEATHER windy] [\\and\\WEATHER [\\and\\ and] [WEATHER [WEATHER windy] [\\and\\WEATHER [\\and\\ and] [WEATHER [PRECIPMODIFIERS [PRECIPMODIFIER possible] [PRECIPMODIFIERS light]] [PRECIPNOUNPRECIPPAREN [PRECIPNOUN flurries] [PRECIPPAREN [\\(\\ (] [\\with\\\\a\\\\chance\\\\of\\MEASURE\\of\\\\snow\\\\)\\ [\\with\\ with] [\\a\\\\chance\\\\of\\MEASURE\\of\\\\snow\\\\)\\ [\\a\\ a] [\\chance\\\\of\\MEASURE\\of\\\\snow\\\\)\\ [\\chance\\ chance] [\\of\\MEASURE\\of\\\\snow\\\\)\\ [\\of\\ of] [MEASURE\\of\\\\snow\\\\)\\ [MEASURE [NUM 10] [\\\\u2013\\NUMUNIT [\\\\u2013\\ \\u2013] [NUMUNIT [NUM 3] [UNIT cm.]]]] [\\of\\\\snow\\\\)\\ [\\of\\ of] [\\snow\\\\)\\ [\\snow\\ snow] [\\)\\ )]]]]]]]]]]]]]]] [TIME\\.\\ [TIME [\\starting\\ starting] [BTIME\\\\\\continuing\\\\until\\BTIME [BTIME tomorrow] [\\\\\\continuing\\\\until\\BTIME [\\\\ ,] [\\continuing\\\\until\\BTIME [\\continuing\\ continuing] [\\until\\BTIME [\\until\\ until] [BTIME [BTIME tonight] [\\and\\BTIME [\\and\\ and] [BTIME [\\this\\ this] [TIMEWORD morning]]]]]]]]] [\\.\\ .]]]\n",
      "\n",
      "\n"
     ]
    }
   ],
   "source": [
    "import json\n",
    "'''\n",
    "put the resulting string into this syntax tree viewer:\n",
    "http://ironcreek.net/syntaxtree/\n",
    "'''\n",
    "def reformat_tree(t):\n",
    "    s = json.dumps(t)\n",
    "    s = s.replace('\",\"', '###')\n",
    "    s = s.replace('\"', '')\n",
    "    s = s.replace(',','')\n",
    "    s = s.replace('[[','[')\n",
    "    s = s.replace(']]',']')\n",
    "    s = s.replace('_','')\n",
    "    s = s.replace('###', ',')\n",
    "    return s\n",
    "\n",
    "\n",
    "tstrings = {reformat_tree(t) for t in ts}\n",
    "for tstr in list(tstrings):\n",
    "    print(tstr)\n",
    "    print(\"\\n\")"
   ]
  },
  {
   "cell_type": "code",
   "execution_count": 7,
   "metadata": {},
   "outputs": [],
   "source": [
    "from bigsky.cfg import Terminal, Nonterminal\n",
    "\n",
    "\n",
    "def orig_cky_parse(sent, grammar):\n",
    "    \"\"\"Based on pseudocode in Jurafsky and Martin.\"\"\"\n",
    "    words =  MosesTokenizer().tokenize(sent)\n",
    "    chart = [[set() for i in range(len(words) + 1)] \n",
    "             for j in range(len(words) + 1)]\n",
    "    for j in range(1, 1 + len(words)):\n",
    "        rules = grammar.get_rules_with_rhs([Terminal(words[j-1])])\n",
    "        nts = set([rule.lhs for rule in rules])\n",
    "        chart[j-1][j] = chart[j-1][j] | nts\n",
    "        for i in range(j-2, -1, -1):\n",
    "            for k in range(i+1, j):\n",
    "                nt_pairs = [(x, y) \n",
    "                            for x in chart[i][k] \n",
    "                            for y in chart[k][j]]\n",
    "                for nt_pair in nt_pairs:\n",
    "                    rules = grammar.get_rules_with_rhs(nt_pair)\n",
    "                    nts = set([rule.lhs for rule in rules])\n",
    "                    chart[i][j] = chart[i][j] | nts\n",
    "    return Nonterminal(\"S\") in chart[0][len(words)]    "
   ]
  },
  {
   "cell_type": "code",
   "execution_count": 8,
   "metadata": {},
   "outputs": [
    {
     "name": "stdout",
     "output_type": "stream",
     "text": [
      "True \t:\t True\n",
      "True \t:\t True\n",
      "True \t:\t True\n",
      "True \t:\t True\n",
      "True \t:\t True\n",
      "True \t:\t True\n",
      "True \t:\t True\n"
     ]
    }
   ],
   "source": [
    "#quick sanity check against the originally provided cky parser\n",
    "for s in ss:\n",
    "    print(orig_cky_parse(s, g), \"\\t:\\t\", cky.cky_parse(s, g))"
   ]
  },
  {
   "cell_type": "code",
   "execution_count": null,
   "metadata": {},
   "outputs": [],
   "source": []
  },
  {
   "cell_type": "code",
   "execution_count": null,
   "metadata": {},
   "outputs": [],
   "source": []
  }
 ],
 "metadata": {
  "kernelspec": {
   "display_name": "Python 3",
   "language": "python",
   "name": "python3"
  },
  "language_info": {
   "codemirror_mode": {
    "name": "ipython",
    "version": 3
   },
   "file_extension": ".py",
   "mimetype": "text/x-python",
   "name": "python",
   "nbconvert_exporter": "python",
   "pygments_lexer": "ipython3",
   "version": "3.6.9"
  }
 },
 "nbformat": 4,
 "nbformat_minor": 4
}

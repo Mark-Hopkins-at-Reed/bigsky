{
 "cells": [
  {
   "cell_type": "code",
   "execution_count": 1,
   "metadata": {},
   "outputs": [],
   "source": [
    "#sample sentences. should be parseable\n",
    "s1 = \"humid in the morning.\"\n",
    "s2 = \"windy and mostly cloudy tonight.\"\n",
    "s3 = \"heavy drizzle (4-6 in.) throughout the day.\""
   ]
  },
  {
   "cell_type": "code",
   "execution_count": 2,
   "metadata": {},
   "outputs": [],
   "source": [
    "import bigsky.cky as cky\n",
    "import bigsky.forecast as fc\n",
    "import bigsky.cfg as cfg"
   ]
  },
  {
   "cell_type": "code",
   "execution_count": 3,
   "metadata": {},
   "outputs": [],
   "source": [
    "g = cfg.Cfg.from_file(\"data/cfgs/weather.cfg\")\n",
    "g = g.binarize()"
   ]
  },
  {
   "cell_type": "code",
   "execution_count": 4,
   "metadata": {},
   "outputs": [
    {
     "data": {
      "text/plain": [
       "True"
      ]
     },
     "execution_count": 4,
     "metadata": {},
     "output_type": "execute_result"
    }
   ],
   "source": [
    "cky.cky_parse(s1, g)"
   ]
  },
  {
   "cell_type": "code",
   "execution_count": 5,
   "metadata": {},
   "outputs": [
    {
     "name": "stdout",
     "output_type": "stream",
     "text": [
      "[('humid', [([('in', [('the', 'morning')])], '.')])]\n",
      "[([('windy', [('and', [('mostly', 'cloudy')])])], [('tonight', '.')])]\n",
      "False\n"
     ]
    }
   ],
   "source": [
    "t1 = cky.cky_tree(s1, g)\n",
    "print(t1)\n",
    "t2 = cky.cky_tree(s2, g)\n",
    "print(t2)\n",
    "t3 = cky.cky_tree(s3, g)\n",
    "print(t3)"
   ]
  },
  {
   "cell_type": "code",
   "execution_count": 12,
   "metadata": {},
   "outputs": [
    {
     "name": "stdout",
     "output_type": "stream",
     "text": [
      "[+ humid [+ [+ in [+ the morning]] .]]\n",
      "[+ [+ windy [+ and [+ mostly cloudy]]] [+ tonight .]]\n"
     ]
    }
   ],
   "source": [
    "import json\n",
    "'''\n",
    "put the resulting string into this syntax tree viewer:\n",
    "http://ironcreek.net/syntaxtree/\n",
    "(Turning off colors and autosubscripts is advisable)\n",
    "'''\n",
    "def reformat_tree(t):\n",
    "    s = json.dumps(t)\n",
    "    s = s.replace('\"', '')\n",
    "    s = s.replace(',','')\n",
    "    s = s.replace('[[','[')\n",
    "    s = s.replace(']]',']')\n",
    "    s = s.replace('[','[+ ')\n",
    "    print(s)\n",
    "\n",
    "reformat_tree(t1)\n",
    "reformat_tree(t2)"
   ]
  },
  {
   "cell_type": "code",
   "execution_count": null,
   "metadata": {},
   "outputs": [],
   "source": []
  }
 ],
 "metadata": {
  "kernelspec": {
   "display_name": "Python 3",
   "language": "python",
   "name": "python3"
  },
  "language_info": {
   "codemirror_mode": {
    "name": "ipython",
    "version": 3
   },
   "file_extension": ".py",
   "mimetype": "text/x-python",
   "name": "python",
   "nbconvert_exporter": "python",
   "pygments_lexer": "ipython3",
   "version": "3.6.9"
  }
 },
 "nbformat": 4,
 "nbformat_minor": 4
}
